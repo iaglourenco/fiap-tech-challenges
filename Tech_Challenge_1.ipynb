{
  "nbformat": 4,
  "nbformat_minor": 0,
  "metadata": {
    "colab": {
      "provenance": [],
      "authorship_tag": "ABX9TyPpA8lgd8rbUupHNTOe9ftV",
      "include_colab_link": true
    },
    "kernelspec": {
      "name": "python3",
      "display_name": "Python 3"
    },
    "language_info": {
      "name": "python"
    }
  },
  "cells": [
    {
      "cell_type": "markdown",
      "metadata": {
        "id": "view-in-github",
        "colab_type": "text"
      },
      "source": [
        "<a href=\"https://colab.research.google.com/github/iaglourenco/fiap-tech-challenges/blob/main/Tech_Challenge_1.ipynb\" target=\"_parent\"><img src=\"https://colab.research.google.com/assets/colab-badge.svg\" alt=\"Open In Colab\"/></a>"
      ]
    },
    {
      "cell_type": "markdown",
      "source": [
        "# Tech Challenge - Fase 1\n",
        "\n",
        "## O problema\n",
        "\n",
        "Você é um(a) profissional encarregado(a) de desenvolver um modelo\n",
        "preditivo de regressão para prever o valor dos custos médicos individuais\n",
        "cobrados pelo seguro de saúde.\n",
        "A base de dados para este desafio pode ser algo como o demonstrado no\n",
        "exemplo a seguir:\n",
        "\n",
        "```\n",
        "idade,gênero,imc,filhos,fumante,região,encargos\n",
        "56,feminino,29.774373714007336,2,sim,sudoeste,31109.88976\n",
        "3423336\n",
        "46,masculino,25.857394655216346,1,não,nordeste,26650.7026\n",
        "46642694\n",
        "32,masculino,23.014839993647488,0,não,sudoeste,21459.0379\n",
        "9039332\n",
        "```\n",
        "Você precisa apenas alimentá-la com mais informações ou utilizar outra\n",
        "de sua preferência.\n",
        "\n",
        "## Tarefas\n",
        "### Exploração de dados\n",
        "- Carregue a base de dados e explore suas características;\n",
        "- Analise estatísticas descritivas e visualize distribuições relevantes.\n",
        "\n",
        "### Pré-processamento de dados\n",
        "- Realize a limpeza dos dados, tratando valores ausentes (se\n",
        "necessário);\n",
        "- Converta variáveis categóricas em formatos adequados para\n",
        "modelagem.\n",
        "\n",
        "### Modelagem\n",
        "\n",
        "- Crie um modelo preditivo de regressão utilizando uma técnica à sua\n",
        "escolha (por exemplo: Regressão Linear, Árvores de Decisão etc);\n",
        "- Divida o conjunto de dados em conjuntos de treinamento e teste.\n",
        "\n",
        "### Treinamento e avaliação do modelo\n",
        "- Treine o modelo com o conjunto de treinamento.\n",
        "\n",
        "### Validação e estatística\n",
        "\n",
        "- Utilize métricas estatísticas para validar a eficácia do modelo (p-value,\n",
        "intervalos de confiança).\n",
        "\n",
        "### O que avaliaremos\n",
        "- Apresente resultados visuais, como gráficos de previsões vs. valores\n",
        "reais;\n",
        "- Elabore um relatório que inclua uma análise dos resultados, insights\n",
        "obtidos e validação estatística.\n",
        "\n",
        "### Observações\n",
        "- Esperamos que o modelo seja capaz de fazer previsões confiáveis dos\n",
        "custos médicos individuais com base nas características fornecidas.\n",
        "\n",
        "## Entregável\n",
        "\n",
        "Como entregável, o grupo deve enviar um vídeo junto com o link do github\n",
        "do projeto e o código desenvolvido, apresentando o passo a passo do que foi\n",
        "utilizado, como a fonte de dados e como os modelos foram criados.\n",
        "\n",
        "O vídeo deve estar disponível em uma plataforma como Youtube e deve\n",
        "conter até **10 minutos no máximo**.\n",
        "\n",
        "Qualquer dúvida, não deixe de nos chamar no Discord, lá poderemos tirar\n",
        "suas dúvidas e auxiliar nesta tarefa. Boa sorte!\n"
      ],
      "metadata": {
        "id": "uxWPDIuF4wng"
      }
    },
    {
      "cell_type": "code",
      "execution_count": null,
      "metadata": {
        "id": "mNqNkzqn4lUH"
      },
      "outputs": [],
      "source": [
        "# Exploração de dados\n"
      ]
    },
    {
      "cell_type": "code",
      "source": [
        "# Pré-processamento de dados\n"
      ],
      "metadata": {
        "id": "qXkfSgPe5-Ux"
      },
      "execution_count": null,
      "outputs": []
    },
    {
      "cell_type": "code",
      "source": [
        "# Modelagem"
      ],
      "metadata": {
        "id": "PWFxiTMb6Beg"
      },
      "execution_count": null,
      "outputs": []
    },
    {
      "cell_type": "code",
      "source": [
        "# Treinamento e avaliação do modelo\n"
      ],
      "metadata": {
        "id": "q0rMrb6c6C5H"
      },
      "execution_count": null,
      "outputs": []
    },
    {
      "cell_type": "code",
      "source": [
        "# Validação e estatística\n"
      ],
      "metadata": {
        "id": "ltQqLH8E6FW_"
      },
      "execution_count": null,
      "outputs": []
    }
  ]
}